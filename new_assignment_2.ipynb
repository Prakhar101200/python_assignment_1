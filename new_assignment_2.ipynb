{
 "cells": [
  {
   "cell_type": "markdown",
   "id": "9ab7acb3",
   "metadata": {},
   "source": [
    "# Python Assignment - 2\n",
    "### Carries - 30 marks"
   ]
  },
  {
   "cell_type": "markdown",
   "id": "d4122e1a",
   "metadata": {},
   "source": [
    "## What is List? How will you reverse a list?"
   ]
  },
  {
   "cell_type": "code",
   "execution_count": 5,
   "id": "ef44f9e9",
   "metadata": {},
   "outputs": [],
   "source": [
    "bikes = [\"kawasaki\", \"honda\", \"suzuki\", \"aprilia\", \"ducati\"]"
   ]
  },
  {
   "cell_type": "code",
   "execution_count": 6,
   "id": "043ac89a",
   "metadata": {},
   "outputs": [
    {
     "data": {
      "text/plain": [
       "list"
      ]
     },
     "execution_count": 6,
     "metadata": {},
     "output_type": "execute_result"
    }
   ],
   "source": [
    "type(bikes) #this is list"
   ]
  },
  {
   "cell_type": "code",
   "execution_count": 7,
   "id": "5a0705e8",
   "metadata": {},
   "outputs": [
    {
     "data": {
      "text/plain": [
       "['ducati', 'aprilia', 'suzuki', 'honda', 'kawasaki']"
      ]
     },
     "execution_count": 7,
     "metadata": {},
     "output_type": "execute_result"
    }
   ],
   "source": [
    "bikes[::-1]"
   ]
  },
  {
   "cell_type": "code",
   "execution_count": 13,
   "id": "89225350",
   "metadata": {},
   "outputs": [
    {
     "name": "stdout",
     "output_type": "stream",
     "text": [
      "[7, 6, 4, 3, 2, 1]\n"
     ]
    }
   ],
   "source": [
    "l = [1,2,3,4,6,7]\n",
    "l.reverse()\n",
    "print(l)\n",
    "#this is another way to reverse the list by using pre-defined function called \"reverse()\""
   ]
  },
  {
   "cell_type": "markdown",
   "id": "69255251",
   "metadata": {},
   "source": [
    "# How will you compare two lists?"
   ]
  },
  {
   "cell_type": "code",
   "execution_count": 19,
   "id": "ee751ef2",
   "metadata": {},
   "outputs": [
    {
     "name": "stdout",
     "output_type": "stream",
     "text": [
      "list is not equal\n"
     ]
    }
   ],
   "source": [
    "bikes = [\"sportsbike\", \"touringbike\", \"adventurebike\", \"hyperbike\"]\n",
    "cars = [\"familycar\", \"supercar\", \"hypercar\"]\n",
    " \n",
    "if bikes == cars:\n",
    "    print(\"list are same\")\n",
    "else:\n",
    "    print(\"list is not equal\")"
   ]
  },
  {
   "cell_type": "markdown",
   "id": "367150d6",
   "metadata": {},
   "source": [
    "###  How will you remove last object from a list? Suppose list1 is [2, 33, 222, 14, and 25], what is list1 [-1]? "
   ]
  },
  {
   "cell_type": "code",
   "execution_count": 84,
   "id": "9364a001",
   "metadata": {},
   "outputs": [],
   "source": [
    "a = [2, 33, 222, 14, 25]"
   ]
  },
  {
   "cell_type": "code",
   "execution_count": 85,
   "id": "d9b32775",
   "metadata": {},
   "outputs": [
    {
     "data": {
      "text/plain": [
       "25"
      ]
     },
     "execution_count": 85,
     "metadata": {},
     "output_type": "execute_result"
    }
   ],
   "source": [
    "a[-1]"
   ]
  },
  {
   "cell_type": "code",
   "execution_count": 86,
   "id": "c5e53bbb",
   "metadata": {},
   "outputs": [],
   "source": [
    "#therefore, removing the list item at -1 index position\n",
    "a.remove(25)"
   ]
  },
  {
   "cell_type": "code",
   "execution_count": 87,
   "id": "b13a42fd",
   "metadata": {},
   "outputs": [
    {
     "data": {
      "text/plain": [
       "[2, 33, 222, 14]"
      ]
     },
     "execution_count": 87,
     "metadata": {},
     "output_type": "execute_result"
    }
   ],
   "source": [
    "a #so, the last obeject has been removed "
   ]
  },
  {
   "cell_type": "markdown",
   "id": "9ad2912e",
   "metadata": {},
   "source": [
    "### Differentiate between append () and extend () methods? "
   ]
  },
  {
   "cell_type": "code",
   "execution_count": 97,
   "id": "3df5fcb1",
   "metadata": {},
   "outputs": [],
   "source": [
    "a = [1,2,3,4,5]\n",
    "a.append(6)"
   ]
  },
  {
   "cell_type": "code",
   "execution_count": 98,
   "id": "addfae8d",
   "metadata": {},
   "outputs": [
    {
     "data": {
      "text/plain": [
       "[1, 2, 3, 4, 5, 6]"
      ]
     },
     "execution_count": 98,
     "metadata": {},
     "output_type": "execute_result"
    }
   ],
   "source": [
    "a"
   ]
  },
  {
   "cell_type": "code",
   "execution_count": 99,
   "id": "3edb05ab",
   "metadata": {},
   "outputs": [],
   "source": [
    "a.extend('7890')"
   ]
  },
  {
   "cell_type": "code",
   "execution_count": 100,
   "id": "f8058fb4",
   "metadata": {},
   "outputs": [
    {
     "data": {
      "text/plain": [
       "[1, 2, 3, 4, 5, 6, '7', '8', '9', '0']"
      ]
     },
     "execution_count": 100,
     "metadata": {},
     "output_type": "execute_result"
    }
   ],
   "source": [
    "a"
   ]
  },
  {
   "cell_type": "markdown",
   "id": "5f8c10ed",
   "metadata": {},
   "source": [
    "### Write a Python program to find the second smallest number in a list."
   ]
  },
  {
   "cell_type": "code",
   "execution_count": 3,
   "id": "6eb8b022",
   "metadata": {},
   "outputs": [
    {
     "name": "stdout",
     "output_type": "stream",
     "text": [
      "Please enter your desired list: 12, 43, 7, 23, 19, 54, 34\n",
      "your second smallest number is: 12\n"
     ]
    }
   ],
   "source": [
    "def find_second_smallest(num):\n",
    "    if len(num) < 2:\n",
    "        return \"please input valid list with atleast 2 items\"\n",
    "    num.sort()\n",
    "    return num[1]\n",
    "inut_list = input(\"Please enter your desired list: \")\n",
    "list1 = inut_list.split(',')\n",
    "list1 = [int(item) for item in list1]\n",
    "result = find_second_smallest(list1)\n",
    "print(\"your second smallest number is:\", result)\n",
    "            "
   ]
  },
  {
   "cell_type": "markdown",
   "id": "6ded1b65",
   "metadata": {},
   "source": [
    "### Write a Python program to find the length of a tuple."
   ]
  },
  {
   "cell_type": "code",
   "execution_count": 4,
   "id": "61cfffe0",
   "metadata": {},
   "outputs": [
    {
     "name": "stdout",
     "output_type": "stream",
     "text": [
      "the length of the tuple is: 10\n"
     ]
    }
   ],
   "source": [
    "def toup_len(tab1):\n",
    "    return len(tab1)\n",
    "\n",
    "l = (1,2,3,4,5,6, 'hi', \"hello\", \"prakhar\", 24.75)\n",
    "length_tuple = toup_len(l)\n",
    "print(\"the length of the tuple is:\", length_tuple)"
   ]
  },
  {
   "cell_type": "markdown",
   "id": "86d7bc5d",
   "metadata": {},
   "source": [
    "## Write a Python program to reverse a tuple."
   ]
  },
  {
   "cell_type": "code",
   "execution_count": 6,
   "id": "161ca274",
   "metadata": {},
   "outputs": [
    {
     "name": "stdout",
     "output_type": "stream",
     "text": [
      "your output is: (24.75, 'prakhar', 'hello', 'hi', 6, 5, 4, 3, 2, 1)\n"
     ]
    }
   ],
   "source": [
    "def rev_tuple(toup1):\n",
    "    reversed_tuple = toup1[::-1]\n",
    "    return reversed_tuple\n",
    "enter_tuple = (1, 2, 3, 4, 5, 6, 'hi', 'hello', 'prakhar', 24.75)\n",
    "\n",
    "reversed_tuple = rev_tuple(enter_tuple)\n",
    "print(\"your output is:\", reversed_tuple)"
   ]
  },
  {
   "cell_type": "markdown",
   "id": "2a982267",
   "metadata": {},
   "source": [
    "### Write a Python program to remove duplicates from a list. "
   ]
  },
  {
   "cell_type": "code",
   "execution_count": 9,
   "id": "9e1f88ee",
   "metadata": {},
   "outputs": [
    {
     "name": "stdout",
     "output_type": "stream",
     "text": [
      "new list is: [1, 2, 3, 4, 5, 6, 7, 8, 9, 'hi', 'hello', 'bye']\n"
     ]
    }
   ],
   "source": [
    "def rem_dub(list1):\n",
    "    new_list = []\n",
    "    dub_list = set()\n",
    "    for item in list1:\n",
    "        if item not in dub_list:\n",
    "            new_list.append(item)\n",
    "            dub_list.add(item)\n",
    "    return new_list\n",
    "input_list = [1,2,3,4,5,5,6,7,8,8,8,8,8,9, 'hi', 'hello', 'bye']\n",
    "dub_list = rem_dub(input_list)\n",
    "print(\"new list is:\", dub_list)"
   ]
  },
  {
   "cell_type": "markdown",
   "id": "2573940b",
   "metadata": {},
   "source": [
    "## Write a Python function that takes a list and returns a new list with unique elements of the first list."
   ]
  },
  {
   "cell_type": "code",
   "execution_count": 72,
   "id": "b6a0b065",
   "metadata": {},
   "outputs": [],
   "source": [
    "def unique_num_list():\n",
    "    new_list1 = []\n",
    "    get_input_list = input(\" Enter your list: \")\n",
    "    for item in get_input_list:\n",
    "        if get_input_list.count(item) < 2:\n",
    "            new_list1.append(item)\n",
    "    return new_list1\n"
   ]
  },
  {
   "cell_type": "code",
   "execution_count": 74,
   "id": "089dc73d",
   "metadata": {},
   "outputs": [
    {
     "name": "stdout",
     "output_type": "stream",
     "text": [
      " Enter your list: 12,12,3,4,5,6,7\n",
      "your unique list: ['3', '4', '5', '6', '7']\n"
     ]
    }
   ],
   "source": [
    "new_list1 = unique_num_list()\n",
    "print(\"your unique list:\" , new_list1)"
   ]
  },
  {
   "cell_type": "markdown",
   "id": "569027d9",
   "metadata": {},
   "source": [
    "###  Write a Python program to check a list is empty or not. "
   ]
  },
  {
   "cell_type": "code",
   "execution_count": 85,
   "id": "fd71c169",
   "metadata": {},
   "outputs": [],
   "source": [
    "def check_list():\n",
    "    new_list = input(\"Enter your list: \")\n",
    "    if len(new_list) == 0:\n",
    "        print(\"the list is empty\")\n",
    "    else:\n",
    "        print(\"list is not empty\")\n",
    "        return new_list"
   ]
  },
  {
   "cell_type": "code",
   "execution_count": 88,
   "id": "2e6392e0",
   "metadata": {},
   "outputs": [
    {
     "name": "stdout",
     "output_type": "stream",
     "text": [
      "Enter your list: \n",
      "the list is empty\n"
     ]
    }
   ],
   "source": [
    "new_list = check_list()\n"
   ]
  },
  {
   "cell_type": "markdown",
   "id": "c64d9e48",
   "metadata": {},
   "source": [
    "### Write a Python function to get the largest number, smallest num and sum of all from a list. "
   ]
  },
  {
   "cell_type": "code",
   "execution_count": 182,
   "id": "556031e9",
   "metadata": {},
   "outputs": [
    {
     "name": "stdout",
     "output_type": "stream",
     "text": [
      "List: [10, 5, 20, 3, 8]\n",
      "Largest number: 20\n",
      "Smallest number: 3\n",
      "Sum of all numbers: 46\n"
     ]
    }
   ],
   "source": [
    "def cal_from_list(numbers):\n",
    "    if not numbers:\n",
    "        return None, None, 0  \n",
    "\n",
    "    largest = float('-inf')  \n",
    "    smallest = float('inf')  \n",
    "    total_sum = 0\n",
    "\n",
    "    for num in numbers:\n",
    "        if isinstance(num, (int, float)):\n",
    "            total_sum += num  \n",
    "\n",
    "            if num > largest:\n",
    "                largest = num  \n",
    "\n",
    "            if num < smallest:\n",
    "                smallest = num  \n",
    "\n",
    "    return largest, smallest, total_sum\n",
    "\n",
    "\n",
    "numbers_list = [10, 5, 20, 3, 8]\n",
    "\n",
    "largest_num, smallest_num, sum_of_all = cal_from_list(numbers_list)\n",
    "\n",
    "print(\"List:\", numbers_list)\n",
    "print(\"Largest number:\", largest_num)\n",
    "print(\"Smallest number:\", smallest_num)\n",
    "print(\"Sum of all numbers:\", sum_of_all)"
   ]
  },
  {
   "cell_type": "markdown",
   "id": "80f8354d",
   "metadata": {},
   "source": [
    "### Write a Python program to get unique values from a list "
   ]
  },
  {
   "cell_type": "code",
   "execution_count": 183,
   "id": "c7ab6392",
   "metadata": {},
   "outputs": [
    {
     "name": "stdout",
     "output_type": "stream",
     "text": [
      "Original List: [1, 2, 3, 1, 2, 4, 5]\n",
      "Unique Values: [1, 2, 3, 4, 5]\n"
     ]
    }
   ],
   "source": [
    "def get_unique_values(input_list):\n",
    "    unique_values = list(set(input_list))\n",
    "    return unique_values\n",
    "\n",
    "\n",
    "input_list = [1, 2, 3, 1, 2, 4, 5]\n",
    "\n",
    "unique_values = get_unique_values(input_list)\n",
    "print(\"Original List:\", input_list)\n",
    "print(\"Unique Values:\", unique_values)"
   ]
  },
  {
   "cell_type": "markdown",
   "id": "a62c3d8c",
   "metadata": {},
   "source": [
    "### Write a Python program to split a list into different variables."
   ]
  },
  {
   "cell_type": "code",
   "execution_count": 186,
   "id": "25bb05a2",
   "metadata": {
    "scrolled": true
   },
   "outputs": [
    {
     "name": "stdout",
     "output_type": "stream",
     "text": [
      "First element: 1\n",
      "Middle elements: [2, 3, 4, 5]\n",
      "Last element: 6\n"
     ]
    }
   ],
   "source": [
    "def split_list(input_list):\n",
    "    if len(input_list) < 3:\n",
    "        print(\"List should have at least 3 elements to split.\")\n",
    "        return None\n",
    "\n",
    "    first, *middle, last = input_list\n",
    "    return first, middle, last\n",
    "\n",
    "\n",
    "input_list = [1, 2, 3, 4, 5, 6]\n",
    "\n",
    "result = split_list(input_list)\n",
    "if result:\n",
    "    first, middle, last = result\n",
    "    print(\"First element:\", first)\n",
    "    print(\"Middle elements:\", middle)\n",
    "    print(\"Last element:\", last)"
   ]
  },
  {
   "cell_type": "markdown",
   "id": "f85589f9",
   "metadata": {},
   "source": [
    "### Write a Python program to check whether an element exists within a tuple"
   ]
  },
  {
   "cell_type": "code",
   "execution_count": 15,
   "id": "84d3d847",
   "metadata": {},
   "outputs": [
    {
     "name": "stdout",
     "output_type": "stream",
     "text": [
      "enter your tuple: (1, 2, 3, 'a', 'b', 'c')\n",
      "enter the element you want to check: 2\n",
      "the element '2' exists in the tuple\n"
     ]
    }
   ],
   "source": [
    "def check_element(tuple1, element):\n",
    "    return element in tuple1\n",
    "enter_tuple = input(\"enter your tuple: \")\n",
    "element_to_check = input(\"enter the element you want to check: \")\n",
    "present = check_element(enter_tuple, element_to_check)\n",
    "\n",
    "if present:\n",
    "    print(f\"the element '{element_to_check}' exists in the tuple\")\n",
    "else:\n",
    "    print(f\"the element '{element_to_check}' does not exists in the tuple\")"
   ]
  },
  {
   "cell_type": "markdown",
   "id": "f9fdf431",
   "metadata": {},
   "source": [
    "### Write a Python program to convert a list to a tuple. "
   ]
  },
  {
   "cell_type": "code",
   "execution_count": 25,
   "id": "fc23271e",
   "metadata": {},
   "outputs": [
    {
     "name": "stdout",
     "output_type": "stream",
     "text": [
      "Enter your list: 1 2 3\n",
      "Your new tuple is: ('1 2 3',)\n"
     ]
    }
   ],
   "source": [
    "def convert_to_tuple(list5):\n",
    "    return tuple(list5)\n",
    "enter_list = input(\"Enter your list: \")\n",
    "list5 = [item.strip() for item in enter_list.split(',')]\n",
    "converted = convert_to_tuple(list5)\n",
    "print(\"Your new tuple is:\", converted)\n"
   ]
  },
  {
   "cell_type": "markdown",
   "id": "9b882e05",
   "metadata": {},
   "source": [
    "### Write a Python program to find the repeated items of a tuple."
   ]
  },
  {
   "cell_type": "code",
   "execution_count": 28,
   "id": "9b81129e",
   "metadata": {},
   "outputs": [
    {
     "name": "stdout",
     "output_type": "stream",
     "text": [
      "Enter your tuple: 12345asdfg34\n",
      "repeated items in tuple are: ['3', '4']\n"
     ]
    }
   ],
   "source": [
    "def find_repeat_item(tuple1):\n",
    "    dublicate = []\n",
    "    counting_element = {item: tuple1.count(item) for item in tuple1}\n",
    "    for item, count in counting_element.items():\n",
    "        if count > 1:\n",
    "            dublicate.append(item)\n",
    "    return dublicate\n",
    "enter_tuple = input(\"Enter your tuple: \")\n",
    "new_tuple = tuple(enter_tuple.split(','))\n",
    "dublicate = find_repeat_item(enter_tuple)\n",
    "print(\"repeated items in tuple are:\", dublicate)"
   ]
  },
  {
   "cell_type": "markdown",
   "id": "a4b253d1",
   "metadata": {},
   "source": [
    "###  Write a Python program to remove an empty tuple(s) from a list of tuples"
   ]
  },
  {
   "cell_type": "code",
   "execution_count": 29,
   "id": "5b573974",
   "metadata": {},
   "outputs": [
    {
     "name": "stdout",
     "output_type": "stream",
     "text": [
      "new list after eliminating all empty tuple: [(1, 2), (2, 3, 4), (4, 6, 7)]\n"
     ]
    }
   ],
   "source": [
    "def rem_empty_tuple(tuple_list):\n",
    "    non_empty_tuple = [t for t in tuple_list if t]\n",
    "    return non_empty_tuple\n",
    "entered_tuple_list = [(1,2), (), (2,3,4), (), (4,6,7)]\n",
    "non_empty_list_of_tuple = rem_empty_tuple(entered_tuple_list)\n",
    "print(\"new list after eliminating all empty tuple:\", non_empty_list_of_tuple)"
   ]
  },
  {
   "cell_type": "markdown",
   "id": "e4b2114c",
   "metadata": {},
   "source": [
    "### Write a Python program to unzip a list of tuples into individual lists. "
   ]
  },
  {
   "cell_type": "code",
   "execution_count": 188,
   "id": "1b624da0",
   "metadata": {},
   "outputs": [
    {
     "name": "stdout",
     "output_type": "stream",
     "text": [
      "Original List of Tuples: [(1, 'a'), (2, 'b'), (3, 'c')]\n",
      "Unzipped Lists: [(1, 2, 3), ('a', 'b', 'c')]\n"
     ]
    }
   ],
   "source": [
    "def unzip_list_of_tuples(list_of_tuples):\n",
    "    unzipped = list(zip(*list_of_tuples))\n",
    "    return unzipped\n",
    "\n",
    "# Example usage\n",
    "list_of_tuples = [(1, 'a'), (2, 'b'), (3, 'c')]\n",
    "\n",
    "unzipped_lists = unzip_list_of_tuples(list_of_tuples)\n",
    "print(\"Original List of Tuples:\", list_of_tuples)\n",
    "print(\"Unzipped Lists:\", unzipped_lists)\n"
   ]
  },
  {
   "cell_type": "markdown",
   "id": "f6c16416",
   "metadata": {},
   "source": [
    "### Write a Python function to check whether a number is in a given range"
   ]
  },
  {
   "cell_type": "code",
   "execution_count": 55,
   "id": "5c2e1e91",
   "metadata": {},
   "outputs": [
    {
     "name": "stdout",
     "output_type": "stream",
     "text": [
      "enter your number to check: 1\n",
      "1 is outside the range [10, 100]\n"
     ]
    }
   ],
   "source": [
    "def check_number_in_range(num, start, end):\n",
    "    return start <= num <= end\n",
    "num_to_check = int(input(\"enter your number to check: \"))\n",
    "start_range = 10\n",
    "end_range = 100\n",
    "\n",
    "if check_number_in_range(num_to_check, start_range, end_range):\n",
    "    \n",
    "    print(f\"{num_to_check} is in the range [{start_range}, {end_range}]\")\n",
    "else:\n",
    "    print(f\"{num_to_check} is outside the range [{start_range}, {end_range}]\")"
   ]
  },
  {
   "cell_type": "markdown",
   "id": "ca38d306",
   "metadata": {},
   "source": [
    "### Write a Python function that checks whether a passed string is palindrome or not "
   ]
  },
  {
   "cell_type": "code",
   "execution_count": 57,
   "id": "e20061fb",
   "metadata": {},
   "outputs": [
    {
     "name": "stdout",
     "output_type": "stream",
     "text": [
      "enter your string: sus\n",
      "sus is a palindrom string\n"
     ]
    }
   ],
   "source": [
    "def check_palindrom(s):\n",
    "    return s == s[::-1]\n",
    "input_str = input(\"enter your string: \")\n",
    "if check_palindrom(input_str):\n",
    "    print(f\"{input_str} is a palindrom string\")\n",
    "else:\n",
    "    print(f\"{input_str} is not a palindrom string\")"
   ]
  },
  {
   "cell_type": "markdown",
   "id": "19e7c4e5",
   "metadata": {},
   "source": [
    "### Write a Python program to returns sum of all divisors of a number "
   ]
  },
  {
   "cell_type": "code",
   "execution_count": 60,
   "id": "5fd0d815",
   "metadata": {},
   "outputs": [
    {
     "name": "stdout",
     "output_type": "stream",
     "text": [
      "enter the number you want to check: 2\n",
      "Sum of the divisor of 2 is 3\n"
     ]
    }
   ],
   "source": [
    "def sum_of_divisor(num1):\n",
    "    if num1 < 0:\n",
    "        return \"please enter a valid input\"\n",
    "    divisor_sum = 0\n",
    "    for i in range(1, num1 + 1):\n",
    "        if num1 % i == 0:\n",
    "            divisor_sum += i\n",
    "    return divisor_sum \n",
    "enter_number = int(input(\"enter the number you want to check: \"))\n",
    "divisor_sum = sum_of_divisor(enter_number)\n",
    "print(\"Sum of the divisor of\", enter_number, \"is\", divisor_sum)"
   ]
  },
  {
   "cell_type": "markdown",
   "id": "e64676e6",
   "metadata": {},
   "source": [
    "### Write a Python program to find the maximum and minimum numbers from the specified decimal numbers. "
   ]
  },
  {
   "cell_type": "code",
   "execution_count": 65,
   "id": "119282e9",
   "metadata": {},
   "outputs": [
    {
     "name": "stdout",
     "output_type": "stream",
     "text": [
      "maximum number: 5.67\n",
      "minimum number: 1.23\n"
     ]
    }
   ],
   "source": [
    "def find_max_min(number1):\n",
    "    if not number1:\n",
    "        return \"enter a valid input\"\n",
    "    max_num = max(number1)\n",
    "    min_num = min(number1)\n",
    "    return max_num, min_num\n",
    "enter_list = [3.14, 2.71, 5.67, 1.23, 4.56]\n",
    "max_num, min_num = find_max_min(enter_list)\n",
    "if max_num is not None and min_num is not None:\n",
    "    print(\"maximum number:\", max_num)\n",
    "    print(\"minimum number:\", min_num)\n",
    "else:\n",
    "    print(\"list is empty. can't find max and min numbers \")"
   ]
  },
  {
   "cell_type": "markdown",
   "id": "afc120de",
   "metadata": {},
   "source": [
    "### Write a Python program to calculate the area of a parallelogram "
   ]
  },
  {
   "cell_type": "code",
   "execution_count": 187,
   "id": "0d4e61b6",
   "metadata": {},
   "outputs": [
    {
     "name": "stdout",
     "output_type": "stream",
     "text": [
      "Enter the length of the base of the parallelogram: 12.3\n",
      "Enter the height of the parallelogram: 12\n",
      "Area of the parallelogram: 147.60000000000002\n"
     ]
    }
   ],
   "source": [
    "def calculate_parallelogram_area(base, height):\n",
    "    if base < 0 or height < 0:\n",
    "        return \"Base and height cannot be zero.\"\n",
    "    else:\n",
    "        area = base * height\n",
    "        return area\n",
    "\n",
    "\n",
    "base_length = float(input(\"Enter the length of the base of the parallelogram: \"))\n",
    "height = float(input(\"Enter the height of the parallelogram: \"))\n",
    "\n",
    "area_of_parallelogram = calculate_parallelogram_area(base_length, height)\n",
    "\n",
    "if isinstance(area_of_parallelogram, str):\n",
    "    print(\"Error:\", area_of_parallelogram)\n",
    "else:\n",
    "    print(\"Area of the parallelogram:\", area_of_parallelogram)\n"
   ]
  },
  {
   "cell_type": "markdown",
   "id": "23ab496f",
   "metadata": {},
   "source": [
    "### Write a Python function to check whether a number is perfect or not. "
   ]
  },
  {
   "cell_type": "code",
   "execution_count": 35,
   "id": "2d7e8da7",
   "metadata": {},
   "outputs": [
    {
     "name": "stdout",
     "output_type": "stream",
     "text": [
      "enter your number: 496\n",
      "the entered number is: True\n"
     ]
    }
   ],
   "source": [
    "def perfect_number(num):\n",
    "    if num < 0:\n",
    "        return False\n",
    "    sum_of_multiple = 0\n",
    "    for i in range(1, num):\n",
    "        if num % i == 0:\n",
    "            sum_of_multiple += i\n",
    "    return sum_of_multiple == num\n",
    "number = int(input(\"enter your number: \"))\n",
    "num_to_check = perfect_number(number)\n",
    "print(f\"the entered number is:\", num_to_check)"
   ]
  },
  {
   "cell_type": "markdown",
   "id": "5e41e219",
   "metadata": {},
   "source": [
    "### Write a Python program to convert degree to radian"
   ]
  },
  {
   "cell_type": "code",
   "execution_count": 37,
   "id": "87fb8406",
   "metadata": {},
   "outputs": [
    {
     "name": "stdout",
     "output_type": "stream",
     "text": [
      "enter the degree: 120\n",
      "120.0 degrees is equal to: 2.0933333333333333\n"
     ]
    }
   ],
   "source": [
    "def convert_to_radian(degrees):\n",
    "    radian = (degrees * 3.14) / 180\n",
    "    return radian\n",
    "enter_degree = float(input(\"enter the degree: \"))\n",
    "radians = convert_to_radian(enter_degree)\n",
    "print(f\"{enter_degree} degrees is equal to:\", radians )"
   ]
  },
  {
   "cell_type": "markdown",
   "id": "368bba70",
   "metadata": {},
   "source": [
    "###  Write a Python program to calculate the area of a trapezoid "
   ]
  },
  {
   "cell_type": "code",
   "execution_count": 40,
   "id": "34ef44e0",
   "metadata": {},
   "outputs": [
    {
     "name": "stdout",
     "output_type": "stream",
     "text": [
      "enter the value of base 1: 12.0\n",
      "enter the value of base 2: 4.5\n",
      "enter the value of height: 9.6\n",
      "The area of trapezoid is: 79.2\n"
     ]
    }
   ],
   "source": [
    "def area_of_trapezoid(base1, base2, height):\n",
    "    area = 1 / 2 * (base1 + base2) * height\n",
    "    return area\n",
    "enter_base1 = float(input(\"enter the value of base 1: \"))\n",
    "enter_base2 = float(input(\"enter the value of base 2: \"))\n",
    "enter_height = float(input(\"enter the value of height: \"))\n",
    "output_area = area_of_trapezoid(enter_base1, enter_base2, enter_height)\n",
    "print(\"The area of trapezoid is:\", output_area)"
   ]
  },
  {
   "cell_type": "markdown",
   "id": "8bf811b7",
   "metadata": {},
   "source": [
    "## Write a Python program to calculate surface volume and area of a cylinder "
   ]
  },
  {
   "cell_type": "code",
   "execution_count": 48,
   "id": "f5fc9dfb",
   "metadata": {},
   "outputs": [
    {
     "name": "stdout",
     "output_type": "stream",
     "text": [
      "Enter the radius of the cyliner: 5\n",
      "enter the height of the cylinder: 20\n",
      "The surface area of the cylinder is: 785.3981633974483\n"
     ]
    }
   ],
   "source": [
    "import math\n",
    "def cal_surface_area(radius, height):\n",
    "    surface_area = 2 * math.pi * radius * height + 2 * (math.pi * radius**2)\n",
    "    return surface_area\n",
    "enter_radius = float(input(\"Enter the radius of the cyliner: \"))\n",
    "enter_height = float(input(\"enter the height of the cylinder: \"))\n",
    "surface_area_output = cal_surface_area(enter_radius, enter_height)\n",
    "print(\"The surface area of the cylinder is:\", surface_area_output)"
   ]
  },
  {
   "cell_type": "code",
   "execution_count": 47,
   "id": "28cae912",
   "metadata": {},
   "outputs": [
    {
     "name": "stdout",
     "output_type": "stream",
     "text": [
      "Enter the radius of the cyliner: 14.7\n",
      "enter the height of the cylinder: 20.6\n",
      "the volume of the cylinder is: 13984.655184192898\n"
     ]
    }
   ],
   "source": [
    "import math\n",
    "def cal_vol(radius, height):\n",
    "    volume = math.pi * radius**2 * height\n",
    "    return volume\n",
    "enter_radius = float(input(\"Enter the radius of the cyliner: \"))\n",
    "enter_height = float(input(\"enter the height of the cylinder: \"))\n",
    "vol_output = cal_vol(enter_radius, enter_height)\n",
    "print(\"the volume of the cylinder is:\", vol_output)"
   ]
  }
 ],
 "metadata": {
  "kernelspec": {
   "display_name": "Python 3 (ipykernel)",
   "language": "python",
   "name": "python3"
  },
  "language_info": {
   "codemirror_mode": {
    "name": "ipython",
    "version": 3
   },
   "file_extension": ".py",
   "mimetype": "text/x-python",
   "name": "python",
   "nbconvert_exporter": "python",
   "pygments_lexer": "ipython3",
   "version": "3.11.4"
  },
  "vscode": {
   "interpreter": {
    "hash": "5ae58900cfbb8c43ab3495913814b7cf26024f51651a94ce8bf64d6111688e8d"
   }
  }
 },
 "nbformat": 4,
 "nbformat_minor": 5
}
