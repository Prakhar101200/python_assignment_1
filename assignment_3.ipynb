{
 "cells": [
  {
   "cell_type": "markdown",
   "id": "4e96153a",
   "metadata": {},
   "source": [
    "# Python Assignment - 3\n",
    "### Carries - 30 marks"
   ]
  },
  {
   "cell_type": "markdown",
   "id": "b5bc6391",
   "metadata": {},
   "source": [
    "## What is File function in python? What is keywords to create and write file. "
   ]
  },
  {
   "cell_type": "markdown",
   "id": "8ad4ab5e",
   "metadata": {},
   "source": [
    "The file operating function is a fuction that lets us to operate among the files direectly through python. This involves various operations like, opening the file, writing inside the file, adding new text in the file, appending texts in the file, creating the file, deleting the txts in the file and replacing the texts in the file. \n",
    "The function 'file' is itself not any built-in function but the keywords that are used to create and write in the file are \n",
    "\n",
    "'open()' function is the first operating function that you will come across regularly. This built-in function lets the user to open the file and return all the objects inside the file so we can read and write in them. But, to create the file you will have to open the file with 'open(file_name.txt , W)'. The 'W' stands for write mode in the python, so, it let's user to write inside the file. But, to your information, if the file does not exists, then, it creates a nre file for writing. "
   ]
  },
  {
   "cell_type": "markdown",
   "id": "77e6fcc1",
   "metadata": {},
   "source": [
    "#### Create and write a  file"
   ]
  },
  {
   "cell_type": "code",
   "execution_count": 67,
   "id": "eace8f6c",
   "metadata": {},
   "outputs": [],
   "source": [
    "new_file = \"test.txt\""
   ]
  },
  {
   "cell_type": "code",
   "execution_count": 68,
   "id": "f7149568",
   "metadata": {},
   "outputs": [
    {
     "name": "stdout",
     "output_type": "stream",
     "text": [
      "<_io.TextIOWrapper name='new_file' mode='w' encoding='cp1252'>\n"
     ]
    }
   ],
   "source": [
    "f = open(\"new_file\", 'w')\n",
    "print(f)"
   ]
  },
  {
   "cell_type": "code",
   "execution_count": 69,
   "id": "cbef2d94",
   "metadata": {},
   "outputs": [
    {
     "name": "stdout",
     "output_type": "stream",
     "text": [
      "file written successfully\n"
     ]
    }
   ],
   "source": [
    "with open(\"new_file\", 'w') as f:\n",
    "    f.write(\"This is the new file created by python.\\n\")\n",
    "    f.write(\"This new file now has one new line.\\n\")\n",
    "    f.close()\n",
    "print(\"file written successfully\")"
   ]
  },
  {
   "cell_type": "markdown",
   "id": "ee678cfd",
   "metadata": {},
   "source": [
    "## Write a Python program to read an entire text file. "
   ]
  },
  {
   "cell_type": "code",
   "execution_count": 70,
   "id": "cdf7ae1a",
   "metadata": {},
   "outputs": [
    {
     "data": {
      "text/plain": [
       "'This is the new file created by python.\\nThis new file now has one new line.\\n'"
      ]
     },
     "execution_count": 70,
     "metadata": {},
     "output_type": "execute_result"
    }
   ],
   "source": [
    "f = open(\"new_file\", 'r')\n",
    "f.read()"
   ]
  },
  {
   "cell_type": "markdown",
   "id": "dd46afa5",
   "metadata": {},
   "source": [
    "## Write a Python program to append text to a file and display the text."
   ]
  },
  {
   "cell_type": "code",
   "execution_count": 71,
   "id": "c80ebe1f",
   "metadata": {},
   "outputs": [
    {
     "name": "stdout",
     "output_type": "stream",
     "text": [
      "appended successfully\n"
     ]
    }
   ],
   "source": [
    "\n",
    "with open(\"new_file\", 'a') as f:\n",
    "    f.write(\"This is me appending new line in the text.\")\n",
    "    f.close()\n",
    "print(\"appended successfully\")"
   ]
  },
  {
   "cell_type": "markdown",
   "id": "52316493",
   "metadata": {},
   "source": [
    "## Write a Python program to read first n lines of a file. "
   ]
  },
  {
   "cell_type": "code",
   "execution_count": 72,
   "id": "23617604",
   "metadata": {},
   "outputs": [
    {
     "data": {
      "text/plain": [
       "'This is the new file created by python.\\n'"
      ]
     },
     "execution_count": 72,
     "metadata": {},
     "output_type": "execute_result"
    }
   ],
   "source": [
    "r_new = open(\"new_file\", 'r')\n",
    "r_new.readline()"
   ]
  },
  {
   "cell_type": "markdown",
   "id": "45dba4dc",
   "metadata": {},
   "source": [
    "## Write a Python program to read last n lines of a file. "
   ]
  },
  {
   "cell_type": "code",
   "execution_count": 73,
   "id": "d36a72b0",
   "metadata": {},
   "outputs": [
    {
     "name": "stdout",
     "output_type": "stream",
     "text": [
      "This is me appending new line in the text.\n"
     ]
    },
    {
     "data": {
      "text/plain": [
       "<function TextIOWrapper.close()>"
      ]
     },
     "execution_count": 73,
     "metadata": {},
     "output_type": "execute_result"
    }
   ],
   "source": [
    "with open(\"new_file\" , 'r')as read_n:\n",
    "    lines = read_n.readlines()\n",
    "    last_line = lines[-1]\n",
    "    print(last_line)\n",
    "read_n.close"
   ]
  },
  {
   "cell_type": "markdown",
   "id": "76a74d09",
   "metadata": {},
   "source": [
    "## Write a Python program to read a file line by line and store it into a list"
   ]
  },
  {
   "cell_type": "code",
   "execution_count": 84,
   "id": "3ea8e4e4",
   "metadata": {},
   "outputs": [
    {
     "name": "stdout",
     "output_type": "stream",
     "text": [
      "['This is the new file created by python.', 'This new file now has one new line.', 'This is me appending new line in the text.']\n"
     ]
    }
   ],
   "source": [
    "\n",
    "with open(\"new_file\", 'r')as f:\n",
    "    lines = f.readlines()\n",
    "    new_list = []\n",
    "    for line in lines:\n",
    "        split_line = line.strip()\n",
    "        new_list.append(split_line)\n",
    "    print(new_list)\n",
    "f.close()  "
   ]
  },
  {
   "cell_type": "markdown",
   "id": "589e624c",
   "metadata": {},
   "source": [
    "## Write a Python program to read a file line by line store it into a variable."
   ]
  },
  {
   "cell_type": "code",
   "execution_count": 104,
   "id": "9a6f1553",
   "metadata": {},
   "outputs": [
    {
     "name": "stdout",
     "output_type": "stream",
     "text": [
      "contents of the file is: This is the new file created by python.\n",
      "This new file now has one new line.\n",
      "This is me appending new line in the text.\n"
     ]
    }
   ],
   "source": [
    "with open(\"new_file\", 'r') as ap:\n",
    "    a = ''\n",
    "    lines = ap.readlines()\n",
    "    for line in lines:\n",
    "        a += line\n",
    "print(\"contents of the file is:\", a)"
   ]
  },
  {
   "cell_type": "markdown",
   "id": "c5a5e0a9",
   "metadata": {},
   "source": [
    "## Write a Python program to copy the contents of a file to another file. "
   ]
  },
  {
   "cell_type": "code",
   "execution_count": 108,
   "id": "d47a46fb",
   "metadata": {},
   "outputs": [
    {
     "name": "stdout",
     "output_type": "stream",
     "text": [
      "<_io.TextIOWrapper name='new_file2' mode='w' encoding='cp1252'>\n",
      "content copied to new file successfully\n"
     ]
    }
   ],
   "source": [
    "with open(\"new_file\", 'r') as read:\n",
    "    file1 = read.read()\n",
    "\n",
    "with open(\"new_file2\", 'w') as write:\n",
    "    write.write(file1)\n",
    "    print(write)\n",
    "print(\"content copied to new file successfully\")\n",
    "    "
   ]
  },
  {
   "cell_type": "code",
   "execution_count": 112,
   "id": "8c16dc16",
   "metadata": {},
   "outputs": [
    {
     "name": "stdout",
     "output_type": "stream",
     "text": [
      "This is the new file created by python.\n",
      "This new file now has one new line.\n",
      "This is me appending new line in the text.\n"
     ]
    }
   ],
   "source": [
    "with open(\"new_file2\", 'r') as p:\n",
    "    a = p.read()\n",
    "    p.close()\n",
    "print(a)"
   ]
  },
  {
   "cell_type": "markdown",
   "id": "056551f3",
   "metadata": {},
   "source": [
    "## Write python program that user to enter only odd numbers, else will raise an exception"
   ]
  },
  {
   "cell_type": "code",
   "execution_count": 127,
   "id": "e2ef3212",
   "metadata": {},
   "outputs": [
    {
     "name": "stdout",
     "output_type": "stream",
     "text": [
      "enter your number: 2\n",
      "You have entered an even number\n"
     ]
    }
   ],
   "source": [
    "class EvenNumberError(Exception):\n",
    "    pass\n",
    "def check_num():\n",
    "    while True:\n",
    "        try:\n",
    "            number = int(input(\"enter your number: \"))\n",
    "            if number % 2 == 0:\n",
    "                raise EvenNumberError(\"You have entered an even number\")\n",
    "            else:\n",
    "                return number\n",
    "        except ValueError:\n",
    "                print(\"Please enter the valid number\")\n",
    "try:\n",
    "    odd_num = check_num()\n",
    "    print(f\"you have entered the valid {odd_num} odd number\")\n",
    "except EvenNumberError as e:\n",
    "    print(e)\n",
    "        "
   ]
  },
  {
   "cell_type": "markdown",
   "id": "165279e1",
   "metadata": {},
   "source": [
    "## Can one block of except statements handle multiple exception? "
   ]
  },
  {
   "cell_type": "markdown",
   "id": "c569a70b",
   "metadata": {},
   "source": [
    "Yes, a block of single except statement can handle multiple exceptions. "
   ]
  },
  {
   "cell_type": "markdown",
   "id": "759b2c5f",
   "metadata": {},
   "source": [
    "## Explain Exception handling? What is an Error in Python?\n"
   ]
  },
  {
   "cell_type": "markdown",
   "id": "4c751317",
   "metadata": {},
   "source": [
    "Exception handling is a process that lets us to handle errors or exception that can occur in our code. Errors are the mistakes that can cause hindrance in the execution of our code. These error can be caused by anything from mis typing to applying wrong logic in the code. So, when we execute our code it gives us some special terms telling us about what error have been found inside the code that has stop the code to give out our desiered results. "
   ]
  },
  {
   "cell_type": "markdown",
   "id": "503ae851",
   "metadata": {},
   "source": [
    "## Write a Python program to count the number of lines in a text file. "
   ]
  },
  {
   "cell_type": "code",
   "execution_count": 133,
   "id": "9b708d8d",
   "metadata": {},
   "outputs": [
    {
     "name": "stdout",
     "output_type": "stream",
     "text": [
      "number of lines are:  3\n"
     ]
    }
   ],
   "source": [
    "def count_lines(new_file2):\n",
    "    try: \n",
    "        with open(\"new_file2\", 'r') as p:\n",
    "            line_sum = sum(1 for line in p)\n",
    "            return line_sum\n",
    "    except FileNotFoundError:\n",
    "        print(\"File does not exist\")\n",
    "new_file2 = \"new_file2.txt\"\n",
    "try:\n",
    "    line_count = count_lines(new_file2)\n",
    "    print(\"number of lines are: \", line_count)\n",
    "except TypeError:\n",
    "    print(\"Cannot count lines of the given file\")"
   ]
  },
  {
   "cell_type": "markdown",
   "id": "7dd706b2",
   "metadata": {},
   "source": [
    "## Write a Python program to write a list to a file. "
   ]
  },
  {
   "cell_type": "code",
   "execution_count": 145,
   "id": "ab86375f",
   "metadata": {},
   "outputs": [
    {
     "name": "stdout",
     "output_type": "stream",
     "text": [
      "list added in the file\n"
     ]
    }
   ],
   "source": [
    "def adding_list_to_file(file_path, list_data):\n",
    "    try:\n",
    "        with open(\"new_file2\", 'a') as input_file:\n",
    "            for elements in list_data:\n",
    "                input_file.write(str(elements) + '\\n')\n",
    "        print(\"list added in the file\")\n",
    "    except IOError:\n",
    "        print(\"cannot add the input list\")\n",
    "    \n",
    "file_path = \"new_file2.txt\"\n",
    "list_data = [1, \"hello\", \"hi\", 34.5]\n",
    "\n",
    "adding_list_to_file(file_path, list_data)\n",
    "            "
   ]
  },
  {
   "cell_type": "code",
   "execution_count": 146,
   "id": "04292e78",
   "metadata": {},
   "outputs": [
    {
     "name": "stdout",
     "output_type": "stream",
     "text": [
      "This is the new file created by python.\n",
      "This new file now has one new line.\n",
      "This is me appending new line in the text.1hellohi34.51\n",
      "hello\n",
      "hi\n",
      "34.5\n",
      "1\n",
      "hello\n",
      "hi\n",
      "34.5\n",
      "\n"
     ]
    }
   ],
   "source": [
    "with open(\"new_file2\", 'r') as p:\n",
    "    a = p.read()\n",
    "    print(a)"
   ]
  },
  {
   "cell_type": "markdown",
   "id": "452eb320",
   "metadata": {},
   "source": [
    "# Explain Inheritance in Python with an example?What is init? Or What Is A Constructor In Python? \n",
    "\n"
   ]
  },
  {
   "cell_type": "markdown",
   "id": "ef053efe",
   "metadata": {},
   "source": [
    "Inheritance is one of the most important part of object oriented programming. It allows a class to inherit the properties of another or previous class. Therefore, the class that inherits the properties is known as subclass or derived class. ALong with this, the class from where subclasses inherit the  properties are known as superclass. This inheritance promotes the code reusability and helps in creating a relationship between different class.\n",
    "Down is the example. "
   ]
  },
  {
   "cell_type": "code",
   "execution_count": 160,
   "id": "0da6e6f5",
   "metadata": {},
   "outputs": [],
   "source": [
    "# parent class\n",
    "class Bird():\n",
    "    \n",
    "    def __init__(self):\n",
    "        print(\"Bird is ready\")\n",
    "\n",
    "    def whoisThis(self):\n",
    "        print(\"Bird\")\n",
    "\n",
    "    def swim(self):\n",
    "        print(\"Swim faster\")\n",
    "\n",
    "class Penguin(Bird):\n",
    "\n",
    "    def __init__(self):\n",
    "        \n",
    "        super().__init__() \n",
    "        print(\"Penguin is ready\")\n",
    "\n",
    "    def whoisThis(self):\n",
    "        print(\"Penguin\")\n",
    "\n",
    "    def run(self):\n",
    "        print(\"Run faster\")\n",
    "\n",
    "\n"
   ]
  },
  {
   "cell_type": "code",
   "execution_count": 162,
   "id": "4ee6bbcf",
   "metadata": {},
   "outputs": [
    {
     "name": "stdout",
     "output_type": "stream",
     "text": [
      "Bird is ready\n",
      "Penguin is ready\n"
     ]
    }
   ],
   "source": [
    "peggy = Penguin()"
   ]
  },
  {
   "cell_type": "markdown",
   "id": "a59e7fed",
   "metadata": {},
   "source": [
    "init is a special method or a constructor. It is called in every class after an object is created from a class. This lets the class initialize the objects attributed. "
   ]
  },
  {
   "cell_type": "markdown",
   "id": "a498a822",
   "metadata": {},
   "source": [
    "# Write a python program to find the longest words."
   ]
  },
  {
   "cell_type": "code",
   "execution_count": 167,
   "id": "efbdc1ae",
   "metadata": {},
   "outputs": [
    {
     "name": "stdout",
     "output_type": "stream",
     "text": [
      "enter your string: Python is an amazing programming language\n",
      "Longest word(s):\n",
      "programming\n"
     ]
    }
   ],
   "source": [
    "def find_longest_word(str1):\n",
    "    words = str1.split()\n",
    "    max_length = 0\n",
    "    longest_word = []\n",
    "    for word in words:\n",
    "        word_length = len(word)\n",
    "        if word_length > max_length:\n",
    "            longest_word = [word]\n",
    "            max_length = word_length\n",
    "    return longest_word\n",
    "str1 = input(\"enter your string: \")\n",
    "longest_word = find_longest_word(str1)\n",
    "print(\"Longest word(s):\")\n",
    "for word in longest_word:\n",
    "    print(word)"
   ]
  },
  {
   "cell_type": "markdown",
   "id": "cbbc881b",
   "metadata": {},
   "source": [
    "# How to Define a Class in Python? What Is Self? Give An Example Of A Python Class\n",
    ".\n"
   ]
  },
  {
   "cell_type": "markdown",
   "id": "69a10860",
   "metadata": {},
   "source": [
    "In Python, a class is defined using the class keyword, followed by the class name and a colon. Inside the class, you define attributes (variables) and methods (functions) that represent the characteristics and behaviors of objects created from that class.\n",
    "\n",
    "The self parameter is a reference to the instance of the class and is used to access attributes and methods within the class. It is usually the first parameter in method definitions and is passed implicitly when calling methods on instances of the class."
   ]
  },
  {
   "cell_type": "code",
   "execution_count": 174,
   "id": "8aa1c914",
   "metadata": {},
   "outputs": [],
   "source": [
    "class Car():\n",
    "    def __init__(self, model, year, color):\n",
    "        self.model = model\n",
    "        self.year = year\n",
    "        self.color = color\n",
    "    def give_info(self):\n",
    "        return f\"Car: {self.year} {self.color} {self.model}\""
   ]
  },
  {
   "cell_type": "code",
   "execution_count": 175,
   "id": "f60fe06a",
   "metadata": {},
   "outputs": [
    {
     "name": "stdout",
     "output_type": "stream",
     "text": [
      "Car: 2008 White Toyota Supra\n"
     ]
    }
   ],
   "source": [
    "my_car = Car(\"Toyota Supra\", 2008, \"White\")\n",
    "car_info = my_car.give_info()\n",
    "print(car_info)"
   ]
  },
  {
   "cell_type": "markdown",
   "id": "f856028b",
   "metadata": {},
   "source": [
    "# Write a Python class named Rectangle constructed by a length and width and a method which will compute the area of a rectangle"
   ]
  },
  {
   "cell_type": "code",
   "execution_count": 179,
   "id": "509ca5ef",
   "metadata": {},
   "outputs": [],
   "source": [
    "class rectangle():\n",
    "    def __init__(self, length, width):\n",
    "        self.length = length\n",
    "        self.width = width\n",
    "    def area_of_rectangle(self):\n",
    "        return self.length * self.width"
   ]
  },
  {
   "cell_type": "code",
   "execution_count": 181,
   "id": "83cf2822",
   "metadata": {},
   "outputs": [
    {
     "name": "stdout",
     "output_type": "stream",
     "text": [
      "Enter the length: 12\n",
      "Enter the width: 34\n",
      "the are of the rectangle is:  408.0\n"
     ]
    }
   ],
   "source": [
    "length = float(input(\"Enter the length: \"))\n",
    "width = float(input(\"Enter the width: \"))\n",
    "my_rectangle = rectangle(length, width)\n",
    "rectangle_area = my_rectangle.area_of_rectangle()\n",
    "print(\"the are of the rectangle is: \", rectangle_area)"
   ]
  },
  {
   "cell_type": "markdown",
   "id": "e627277a",
   "metadata": {},
   "source": [
    "## Explain Exception handling? What is an Error in Python? "
   ]
  },
  {
   "cell_type": "markdown",
   "id": "84e60eaa",
   "metadata": {},
   "source": [
    "Exception handling is a process that lets us to handle errors or exception that can occur in our code. Errors are the mistakes that can cause hindrance in the execution of our code. These error can be caused by anything from mis typing to applying wrong logic in the code. So, when we execute our code it gives us some special terms telling us about what error have been found inside the code that has stop the code to give out our desiered results."
   ]
  },
  {
   "cell_type": "markdown",
   "id": "bed33f31",
   "metadata": {},
   "source": [
    "## How many except statements can a try-except block have? Name Some built-in exception classes: "
   ]
  },
  {
   "cell_type": "markdown",
   "id": "bcba82a8",
   "metadata": {},
   "source": [
    "A try-except block in Python can have multiple except statements to handle different types of exceptions. You can handle as many specific exceptions as needed by listing them after the except keyword.\n",
    "Some of the built-in exception classes are:\n",
    "1. ZeroDivisionError\n",
    "2. ValueError\n",
    "3. TypeError\n",
    "4. FileNotFoundError\n",
    "5. IndexError\n",
    "6. TypeError\n",
    "7. NameError\n",
    "\n"
   ]
  },
  {
   "cell_type": "markdown",
   "id": "9d89a755",
   "metadata": {},
   "source": [
    "## Write python program that user to enter only odd numbers, else will raise an exception. "
   ]
  },
  {
   "cell_type": "code",
   "execution_count": 186,
   "id": "fb017904",
   "metadata": {},
   "outputs": [
    {
     "name": "stdout",
     "output_type": "stream",
     "text": [
      "enter your number: 3\n",
      "you have entered the valid 3 odd number\n"
     ]
    }
   ],
   "source": [
    "class EvenNumberError(Exception):\n",
    "    pass\n",
    "def check_num():\n",
    "    while True:\n",
    "        try:\n",
    "            number = int(input(\"enter your number: \"))\n",
    "            if number % 2 == 0:\n",
    "                raise EvenNumberError(\"You have entered an even number\")\n",
    "            else:\n",
    "                return number\n",
    "        except ValueError:\n",
    "                print(\"Please enter the valid number\")\n",
    "try:\n",
    "    odd_num = check_num()\n",
    "    print(f\"you have entered the valid {odd_num} odd number\")\n",
    "except EvenNumberError as e:\n",
    "    print(e)"
   ]
  },
  {
   "cell_type": "markdown",
   "id": "e8497bda",
   "metadata": {},
   "source": [
    "## Write a Python class named Circle constructed by a radius and two methods which will compute the area and the perimeter of a circle "
   ]
  },
  {
   "cell_type": "code",
   "execution_count": 185,
   "id": "2a6c509d",
   "metadata": {},
   "outputs": [
    {
     "name": "stdout",
     "output_type": "stream",
     "text": [
      "enter the radius of the circle: 5\n",
      "Area of the circle:  78.53981633974483\n",
      "perimeter of the circle:  31.41592653589793\n"
     ]
    }
   ],
   "source": [
    "import math\n",
    "\n",
    "class Circle():\n",
    "    def __init__(self, radius):\n",
    "        self.radius = radius\n",
    "    def area_of_circle(self):\n",
    "        return math.pi * self.radius**2\n",
    "    def perimeter_of_circle(self):\n",
    "        return 2 * math.pi * self.radius\n",
    "radius = int(input(\"enter the radius of the circle: \"))\n",
    "my_circle = Circle(radius)\n",
    "area = my_circle.area_of_circle()\n",
    "perimeter = my_circle.perimeter_of_circle()\n",
    "print(\"Area of the circle: \", area)\n",
    "print(\"perimeter of the circle: \", perimeter)"
   ]
  },
  {
   "cell_type": "markdown",
   "id": "fc384afd",
   "metadata": {},
   "source": [
    "## Explain Inheritance in Python with an example? What is init? Or What Is A Constructor In Python? "
   ]
  },
  {
   "cell_type": "markdown",
   "id": "b3c91670",
   "metadata": {},
   "source": [
    "Inheritance is one of the most important part of object oriented programming. It allows a class to inherit the properties of another or previous class. Therefore, the class that inherits the properties is known as subclass or derived class. ALong with this, the class from where subclasses inherit the properties are known as superclass. This inheritance promotes the code reusability and helps in creating a relationship between different class. Down is the example."
   ]
  },
  {
   "cell_type": "code",
   "execution_count": null,
   "id": "3cf78a9b",
   "metadata": {},
   "outputs": [],
   "source": [
    "class Bird():\n",
    "    \n",
    "    def __init__(self):\n",
    "        print(\"Bird is ready\")\n",
    "\n",
    "    def whoisThis(self):\n",
    "        print(\"Bird\")\n",
    "\n",
    "    def swim(self):\n",
    "        print(\"Swim faster\")\n",
    "\n",
    "class Penguin(Bird):\n",
    "\n",
    "    def __init__(self):\n",
    "        \n",
    "        super().__init__() \n",
    "        print(\"Penguin is ready\")\n",
    "\n",
    "    def whoisThis(self):\n",
    "        print(\"Penguin\")\n",
    "\n",
    "    def run(self):\n",
    "        print(\"Run faster\")"
   ]
  },
  {
   "cell_type": "code",
   "execution_count": 183,
   "id": "50f0a2bc",
   "metadata": {},
   "outputs": [
    {
     "name": "stdout",
     "output_type": "stream",
     "text": [
      "Bird is ready\n",
      "Penguin is ready\n"
     ]
    }
   ],
   "source": [
    "peggy = Penguin()"
   ]
  },
  {
   "cell_type": "markdown",
   "id": "ca9350b1",
   "metadata": {},
   "source": [
    "## What is Instantiation in terms of OOP terminology?\n",
    "\n"
   ]
  },
  {
   "cell_type": "markdown",
   "id": "ea43b900",
   "metadata": {},
   "source": [
    "It is the creation of an instance of a class. "
   ]
  },
  {
   "cell_type": "code",
   "execution_count": null,
   "id": "59d11a69",
   "metadata": {},
   "outputs": [],
   "source": []
  }
 ],
 "metadata": {
  "kernelspec": {
   "display_name": "Python 3 (ipykernel)",
   "language": "python",
   "name": "python3"
  },
  "language_info": {
   "codemirror_mode": {
    "name": "ipython",
    "version": 3
   },
   "file_extension": ".py",
   "mimetype": "text/x-python",
   "name": "python",
   "nbconvert_exporter": "python",
   "pygments_lexer": "ipython3",
   "version": "3.11.4"
  },
  "vscode": {
   "interpreter": {
    "hash": "2043299c89c8cd0b4d1a6f5cf4529bd58e6a4e0fe3181a25e0d328c821cdc5c5"
   }
  }
 },
 "nbformat": 4,
 "nbformat_minor": 5
}
