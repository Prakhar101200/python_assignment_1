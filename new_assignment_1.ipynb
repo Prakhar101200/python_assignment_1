{
 "cells": [
  {
   "cell_type": "markdown",
   "id": "fb933f7e",
   "metadata": {},
   "source": [
    "# Python Assignment - 1\n",
    "#### Carries 30 marks"
   ]
  },
  {
   "cell_type": "markdown",
   "id": "b4896514",
   "metadata": {},
   "source": [
    "### Write a Python program to sum of three given integers. However, if two values are equal sum will be zero."
   ]
  },
  {
   "cell_type": "code",
   "execution_count": 9,
   "id": "230cee62",
   "metadata": {},
   "outputs": [
    {
     "name": "stdout",
     "output_type": "stream",
     "text": [
      "enter your first num: 2\n",
      "enter your second num: 3\n",
      "enter your third num: 5\n",
      "the total sum is: 10\n"
     ]
    }
   ],
   "source": [
    "def add_three_int(num1, num2, num3):\n",
    "    if num1 == num2 or num2 == num3 or num1 == num3:\n",
    "        return 0\n",
    "    else:\n",
    "        return num1 + num2 + num3\n",
    "num1 = int(input(\"enter your first num: \"))\n",
    "num2 = int(input(\"enter your second num: \"))\n",
    "num3 = int(input(\"enter your third num: \"))\n",
    "result = add_three_int(num1, num2, num3)\n",
    "print(\"the total sum is:\", result)"
   ]
  },
  {
   "cell_type": "markdown",
   "id": "44498b23",
   "metadata": {},
   "source": [
    "### Write a Python program to test whether a passed letter is a vowel or not."
   ]
  },
  {
   "cell_type": "code",
   "execution_count": 11,
   "id": "5800a1e9",
   "metadata": {},
   "outputs": [
    {
     "name": "stdout",
     "output_type": "stream",
     "text": [
      "Enter the length of the base of the parallelogram: 12.6\n",
      "Enter the height of the parallelogram: 6\n",
      "Area of the parallelogram: 75.6\n"
     ]
    }
   ],
   "source": [
    "def cal_pal(base, height):\n",
    "    if base < 0 or height < 0:\n",
    "        return \"Base and height cannot be zero.\"\n",
    "    else:\n",
    "        area = base * height\n",
    "        return area\n",
    "\n",
    "\n",
    "base_length = float(input(\"Enter the length of the base of the parallelogram: \"))\n",
    "height = float(input(\"Enter the height of the parallelogram: \"))\n",
    "\n",
    "area_of_parallelogram = cal_pal(base_length, height)\n",
    "\n",
    "if isinstance(area_of_parallelogram, str):\n",
    "    print(\"Error:\", area_of_parallelogram)\n",
    "else:\n",
    "    print(\"Area of the parallelogram:\", area_of_parallelogram)"
   ]
  },
  {
   "cell_type": "markdown",
   "id": "999e1c55",
   "metadata": {},
   "source": [
    "### Write python program that swap two number with temp variable and without temp variable."
   ]
  },
  {
   "cell_type": "code",
   "execution_count": 7,
   "id": "71b08ddf",
   "metadata": {},
   "outputs": [
    {
     "name": "stdout",
     "output_type": "stream",
     "text": [
      "before: 100 102\n",
      "After: 102 100\n"
     ]
    }
   ],
   "source": [
    "def swap_with_temp(num1, num2):\n",
    "    temp = num1\n",
    "    num1 = num2\n",
    "    num2 = temp\n",
    "    return num1, num2\n",
    "input_num1 = 100\n",
    "input_num2 = 102\n",
    "print(\"before:\", input_num1, input_num2)\n",
    "input_num1, input_num2 = swap_with_temp(input_num1, input_num2)\n",
    "print(\"After:\", input_num1, input_num2)"
   ]
  },
  {
   "cell_type": "code",
   "execution_count": 8,
   "id": "6955717b",
   "metadata": {},
   "outputs": [
    {
     "name": "stdout",
     "output_type": "stream",
     "text": [
      "before: 20 40\n",
      "after: 40 20\n"
     ]
    }
   ],
   "source": [
    "def swap_without(num1, num2):\n",
    "    num1 = num1 + num2\n",
    "    num2 = num1 - num2\n",
    "    num1 = num1 - num2\n",
    "    return num1, num2\n",
    "input_num1 = 20\n",
    "input_num2 = 40\n",
    "print(\"before:\", input_num1, input_num2)\n",
    "input_num1, input_num2 = swap_without(input_num1, input_num2)\n",
    "print(\"after:\", input_num1, input_num2)\n",
    "                                     "
   ]
  },
  {
   "cell_type": "markdown",
   "id": "d9805ba4",
   "metadata": {},
   "source": [
    "### Write a Python program to calculate the length of a string."
   ]
  },
  {
   "cell_type": "code",
   "execution_count": 14,
   "id": "df81befe",
   "metadata": {},
   "outputs": [
    {
     "name": "stdout",
     "output_type": "stream",
     "text": [
      "Enter a string: hi my name is pralhar\n",
      "length of string: 21\n"
     ]
    }
   ],
   "source": [
    "def cal_len(t):\n",
    "    return len(t)\n",
    "input_string = str(input(\"Enter a string: \"))\n",
    "length_of_str = cal_len(input_string)\n",
    "print(\"length of string:\", length_of_str)"
   ]
  },
  {
   "cell_type": "markdown",
   "id": "99144e41",
   "metadata": {},
   "source": [
    "### Write a Python program to find whether a given number is even or odd,print out an appropriate message to the user."
   ]
  },
  {
   "cell_type": "code",
   "execution_count": 37,
   "id": "dbbf15d7",
   "metadata": {},
   "outputs": [
    {
     "name": "stdout",
     "output_type": "stream",
     "text": [
      "Enter your number: 5\n",
      "5 is an odd number\n",
      "None\n"
     ]
    }
   ],
   "source": [
    "def od_or_even(n):\n",
    "    if n < 0:\n",
    "        return \"Please enter the valid input\"\n",
    "    if n % 2 == 0:\n",
    "        print(f\"{n} is an even number\")\n",
    "    else:\n",
    "        print(f\"{n} is an odd number\")\n",
    "num = int(input(\"Enter your number: \"))\n",
    "result = od_or_even(num)\n",
    "print(result)\n",
    "    "
   ]
  },
  {
   "cell_type": "markdown",
   "id": "0a560977",
   "metadata": {},
   "source": [
    "### write a programme to find biggest number of given three values."
   ]
  },
  {
   "cell_type": "code",
   "execution_count": 44,
   "id": "4f3fa091",
   "metadata": {},
   "outputs": [
    {
     "name": "stdout",
     "output_type": "stream",
     "text": [
      "enter the first numeric value: 3\n",
      "enter the second numeric value: 5\n",
      "enter the third numeric value: 1\n",
      "The largest number is: 5.0\n"
     ]
    }
   ],
   "source": [
    "def biggest_values(num1, num2, num3):\n",
    "    largest = max(num1, num2, num3) \n",
    "    return largest\n",
    "num1 = float(input(\"enter the first numeric value: \"))\n",
    "num2 = float(input(\"enter the second numeric value: \"))\n",
    "num3 = float(input(\"enter the third numeric value: \"))\n",
    "largest_number = biggest_values(num1, num2, num3)\n",
    "\n",
    "print(\"The largest number is:\", largest_number)"
   ]
  },
  {
   "cell_type": "markdown",
   "id": "5327a33b",
   "metadata": {},
   "source": [
    "### Write a Python program that will return true if the two given integer values are equal or their sum or difference is 5."
   ]
  },
  {
   "cell_type": "code",
   "execution_count": 52,
   "id": "1aa41bcc",
   "metadata": {},
   "outputs": [
    {
     "name": "stdout",
     "output_type": "stream",
     "text": [
      "Enter your first integer: 5\n",
      "Enter your second integer: 5\n",
      "Your output is: True\n"
     ]
    }
   ],
   "source": [
    "def check_int(num1, num2):\n",
    "    return num1 == num2 or abs(num1 - num2) == 5 or num1 + num2 == 5\n",
    "       \n",
    "num1 = int(input(\"Enter your first integer: \"))\n",
    "num2 = int(input(\"Enter your second integer: \"))\n",
    "output_result = check_int(num1, num2)\n",
    "print(\"Your output is:\", output_result)"
   ]
  },
  {
   "cell_type": "markdown",
   "id": "b1075328",
   "metadata": {},
   "source": [
    "### Write a python program to sum of the first n positive integers."
   ]
  },
  {
   "cell_type": "code",
   "execution_count": 35,
   "id": "5d474698",
   "metadata": {},
   "outputs": [
    {
     "name": "stdout",
     "output_type": "stream",
     "text": [
      "enter new list seperated by commas: 1,2,3,4,-4,-3,-2,-1\n",
      "the sum of all positive integer is: 10\n"
     ]
    }
   ],
   "source": [
    "def add_positive_int(list1):\n",
    "    if not list1:\n",
    "        return \"Please enter valid list\"\n",
    "    result = 0\n",
    "\n",
    "    for i in list1:\n",
    "        num = int(i)\n",
    "        if num > 0:\n",
    "            result += num\n",
    "    return result\n",
    "user_input = input(\"enter new list seperated by commas: \")\n",
    "list1 = user_input.split(',')\n",
    "list1 = [int(item) for item in list1]\n",
    "result = add_positive_int(list1)\n",
    "print(\"the sum of all positive integer is:\", result)"
   ]
  },
  {
   "cell_type": "markdown",
   "id": "e480000b",
   "metadata": {},
   "source": [
    "### Write a Python program to calculate the length of a string."
   ]
  },
  {
   "cell_type": "code",
   "execution_count": 42,
   "id": "e154e64e",
   "metadata": {},
   "outputs": [
    {
     "name": "stdout",
     "output_type": "stream",
     "text": [
      "Please input your string: Hello this is python and bye\n",
      "The length of the input string is: 28\n"
     ]
    }
   ],
   "source": [
    "def length_of_str(n):\n",
    "    if len(n) == 0:\n",
    "        return \"Please enter a valid string input\"\n",
    "    else:\n",
    "        result = len(n)\n",
    "        return result\n",
    "enter_str = str(input(\"Please input your string: \"))\n",
    "result = length_of_str(enter_str)\n",
    "print(\"The length of the input string is:\", result)"
   ]
  },
  {
   "cell_type": "markdown",
   "id": "83f1be28",
   "metadata": {},
   "source": [
    "### What is the purpose continue statement in python?"
   ]
  },
  {
   "cell_type": "markdown",
   "id": "cfa5ce6f",
   "metadata": {},
   "source": [
    "continue statement in python is a syntax that ends the operation of current iteration of a loop. It basically ends the operation of the loop and returns to the start or top of the loop with rejecting all the remaining statements. The continue statement is suitable to in both while and for loop. Below giving an example to show how exactly continue statement works. "
   ]
  },
  {
   "cell_type": "code",
   "execution_count": 38,
   "id": "9d10c213",
   "metadata": {},
   "outputs": [
    {
     "name": "stdout",
     "output_type": "stream",
     "text": [
      "skipping the item 4\n"
     ]
    }
   ],
   "source": [
    "for i in range(1, 8):\n",
    "        if i == 4:\n",
    "            print(\"skipping the item\", i)\n",
    "            continue\n",
    "            print(\"resuming the iteration\", i)"
   ]
  },
  {
   "cell_type": "markdown",
   "id": "f265154e",
   "metadata": {},
   "source": [
    "See, in the above example the continue statement is skipping the 4th item."
   ]
  },
  {
   "cell_type": "markdown",
   "id": "728d8b7a",
   "metadata": {},
   "source": [
    "### Write a Python program to add 'ing' at the end of a given string (length should be at least 3). If the given string already ends with 'ing' then add 'ly' instead if the string length of the given string is less than 3, leave it unchanged.\n"
   ]
  },
  {
   "cell_type": "code",
   "execution_count": 6,
   "id": "c90c977e",
   "metadata": {},
   "outputs": [
    {
     "name": "stdout",
     "output_type": "stream",
     "text": [
      "Enter your desired string: going\n",
      "Your new string is: goingly\n"
     ]
    }
   ],
   "source": [
    "def change_spell(str1):\n",
    "    if len(str1) < 3:\n",
    "        return \"Please enter valid string with minimum length of 3 characters\"\n",
    "    elif str1[-3:] == 'ing':\n",
    "        return str1 + 'ly'\n",
    "    else:\n",
    "        return str1 + 'ing'\n",
    "str1 = input(\"Enter your desired string: \")\n",
    "updated_str = change_spell(str1)\n",
    "print(\"Your new string is:\", updated_str)"
   ]
  },
  {
   "cell_type": "markdown",
   "id": "78208ba5",
   "metadata": {},
   "source": [
    "### Write a Python program to find the first appearance of the substring 'not' and 'poor' from a given string, if 'not' follows the 'poor', replace the whole 'not'...'poor' substring with 'good'. Return the resulting string"
   ]
  },
  {
   "cell_type": "code",
   "execution_count": 2,
   "id": "7d8711c7",
   "metadata": {},
   "outputs": [
    {
     "name": "stdout",
     "output_type": "stream",
     "text": [
      "enter the string: he is not fine as he is poor\n",
      "Your result string is: he is good\n"
     ]
    }
   ],
   "source": [
    "def replace_substr(str1):\n",
    "    find_not = str1.find('not')\n",
    "    find_poor = str1.find('poor')\n",
    "    \n",
    "    if find_not != -1 and find_poor != -1 and find_not < find_poor:\n",
    "        return str1[:find_not] + 'good' + str1[find_poor+4:]\n",
    "    else:\n",
    "        return str1\n",
    "user_input = input(\"enter the string: \")\n",
    "result = replace_substr(user_input)\n",
    "print(\"Your result string is:\", result)\n",
    "    "
   ]
  },
  {
   "cell_type": "markdown",
   "id": "7f264574",
   "metadata": {},
   "source": [
    "### Write a Python function to insert a string in the middle of a string."
   ]
  },
  {
   "cell_type": "code",
   "execution_count": 26,
   "id": "f4a4cffe",
   "metadata": {},
   "outputs": [
    {
     "name": "stdout",
     "output_type": "stream",
     "text": [
      "Input your string: Helloworld\n",
      "Enter the string you want to add: my\n",
      "Your new added string is: Hello my world\n"
     ]
    }
   ],
   "source": [
    "def insert_string(str1):\n",
    "    if len(str1) == 0:\n",
    "        return \"Please enter valid string\"\n",
    "    else:\n",
    "        input_new_add = input(\"Enter the string you want to add: \")\n",
    "        divided_str = int(len(str1) / 2)\n",
    "        left = str1[:divided_str]\n",
    "        right = str1[divided_str:]\n",
    "        result = left + ' ' + input_new_add + ' ' + right\n",
    "        return result\n",
    "str1 = input(\"Input your string: \")\n",
    "new_added_str = insert_string(str1)\n",
    "print(\"Your new added string is:\", new_added_str)\n",
    "        "
   ]
  },
  {
   "cell_type": "markdown",
   "id": "5435ccd0",
   "metadata": {},
   "source": [
    "### reverses a string if its length is a multiple of 4."
   ]
  },
  {
   "cell_type": "code",
   "execution_count": 18,
   "id": "26924ffa",
   "metadata": {},
   "outputs": [
    {
     "name": "stdout",
     "output_type": "stream",
     "text": [
      "Enter your string: Hi, this is prakhar \n",
      "Your New string is:  rahkarp si siht ,iH\n"
     ]
    }
   ],
   "source": [
    "def rev_str(str1):\n",
    "    if len(str1) % 4 != 0:\n",
    "        return \"Please enter another string\"\n",
    "    else:\n",
    "        result = ''.join(reversed(str1))\n",
    "        return result\n",
    "str1 = input(\"Enter your string: \")\n",
    "new_rev_str = rev_str(str1)\n",
    "print(\"Your New string is:\", new_rev_str)"
   ]
  },
  {
   "cell_type": "markdown",
   "id": "48d8671f",
   "metadata": {},
   "source": [
    "### Write a Python program to get a string made of the first 2 and the last 2 chars from a given a string. If the string length is less than 2, return instead of the empty string."
   ]
  },
  {
   "cell_type": "code",
   "execution_count": 7,
   "id": "b9907390",
   "metadata": {},
   "outputs": [
    {
     "name": "stdout",
     "output_type": "stream",
     "text": [
      "Enter your string: Prakhar Gupta\n",
      "Your new string: Prta\n"
     ]
    }
   ],
   "source": [
    "def transforming_str(str1):\n",
    "    if len(str1) < 2:\n",
    "        return \"Please Enter a valid string having minimum 2 character\"\n",
    "    new_str = str1[:2] + str1[-2:]\n",
    "    result = new_str\n",
    "    return result\n",
    "str1 = input(\"Enter your string: \")\n",
    "output_str = transforming_str(str1)\n",
    "print(\"Your new string:\", output_str)"
   ]
  },
  {
   "cell_type": "markdown",
   "id": "f0b39584",
   "metadata": {},
   "source": [
    "### Write a Python program to get a single string from two given strings, separated by a space and swap the first two characters of each string."
   ]
  },
  {
   "cell_type": "code",
   "execution_count": 4,
   "id": "e3e383d3",
   "metadata": {},
   "outputs": [
    {
     "name": "stdout",
     "output_type": "stream",
     "text": [
      "Enter your first string: Hello \n",
      "Enter your second string: World\n",
      "your new string is: Wollo  Herld\n"
     ]
    }
   ],
   "source": [
    "def get_string(str1, str2):\n",
    "    if len(str1) < 2 or len(str2) < 2:\n",
    "        return \"The entry is invalid, the vaid string should consist 2 character minimum\"\n",
    "    swap_str1 = str2[:2] + str1[2:]\n",
    "    swap_str2 = str1[:2] + str2[2:]\n",
    "    result = swap_str1 + ' ' + swap_str2\n",
    "    return result\n",
    "str1 = input(\"Enter your first string: \")\n",
    "str2 = input(\"Enter your second string: \")\n",
    "new_string = get_string(str1, str2)\n",
    "print(\"your new string is:\",  new_string)"
   ]
  },
  {
   "cell_type": "markdown",
   "id": "323a62d0",
   "metadata": {},
   "source": [
    "### Write a Python program to get the Fibonacci series of given range."
   ]
  },
  {
   "cell_type": "code",
   "execution_count": 23,
   "id": "057b2df5",
   "metadata": {},
   "outputs": [
    {
     "name": "stdout",
     "output_type": "stream",
     "text": [
      "enter the number of terms for the fibonacci series: 5\n",
      "0 1  \n",
      "1  \n",
      "2  \n",
      "3  \n",
      "5  \n",
      "8  \n"
     ]
    }
   ],
   "source": [
    "def fibonacci(n):\n",
    "    if n < 0:\n",
    "        return \"please enter a positive integer for the range\"\n",
    "    first = 0\n",
    "    second = 1\n",
    "    \n",
    "    print(first, second, \" \")\n",
    "    \n",
    "    for i in range(n):\n",
    "        new_num = first + second\n",
    "        print(new_num, \" \")\n",
    "        first = second\n",
    "        second = new_num\n",
    "\n",
    "num = int(input(\"enter the number of terms for the fibonacci series: \"))\n",
    "\n",
    "fibonacci(num)\n",
    "    "
   ]
  },
  {
   "cell_type": "markdown",
   "id": "d9013007",
   "metadata": {},
   "source": [
    "### Write a Python program to get the Factorial number of given number"
   ]
  },
  {
   "cell_type": "code",
   "execution_count": 12,
   "id": "da6371ef",
   "metadata": {},
   "outputs": [
    {
     "name": "stdout",
     "output_type": "stream",
     "text": [
      "Enter a positive integer: 5\n",
      "The factorial of the 5 is: 120\n"
     ]
    }
   ],
   "source": [
    "def factorial(n):\n",
    "    if n < 0:\n",
    "        return \"This function does not takes negative integer\"\n",
    "    elif n == 0 or n == 1:\n",
    "        return 1\n",
    "    else:\n",
    "        result = 1\n",
    "        for i in range(2, n + 1):\n",
    "            result *= i\n",
    "        return result\n",
    "try:\n",
    "    num = int(input(\"Enter a positive integer: \"))\n",
    "    print(f\"The factorial of the {num} is: {factorial(num)}\")\n",
    "except valueError:\n",
    "          print(\"The input is invalid for the factorial operation. Please, input a positive integer.\")\n",
    "        "
   ]
  },
  {
   "cell_type": "markdown",
   "id": "81819365",
   "metadata": {},
   "source": [
    "### Write a Python program to check if a number is positive, negative or zero"
   ]
  },
  {
   "cell_type": "code",
   "execution_count": 18,
   "id": "fc38fb6e",
   "metadata": {},
   "outputs": [
    {
     "name": "stdout",
     "output_type": "stream",
     "text": [
      "enter a number: 0\n",
      "the number is Zero\n"
     ]
    }
   ],
   "source": [
    "def check_number(num):\n",
    "    if num > 0:\n",
    "        return \"Positive\"\n",
    "    elif num < 0:\n",
    "        return \"Negative\"\n",
    "    else:\n",
    "        return \"Zero\"\n",
    "number = float(input(\"enter a number: \"))\n",
    "result = check_number(number)\n",
    "print(\"the number is\", result)"
   ]
  },
  {
   "cell_type": "markdown",
   "id": "7defed1a",
   "metadata": {},
   "source": [
    "##  How memory is managed in Python?\n"
   ]
  },
  {
   "cell_type": "code",
   "execution_count": null,
   "id": "4093ff55",
   "metadata": {},
   "outputs": [],
   "source": []
  },
  {
   "cell_type": "code",
   "execution_count": null,
   "id": "0b30663f",
   "metadata": {},
   "outputs": [],
   "source": []
  }
 ],
 "metadata": {
  "kernelspec": {
   "display_name": "Python 3 (ipykernel)",
   "language": "python",
   "name": "python3"
  },
  "language_info": {
   "codemirror_mode": {
    "name": "ipython",
    "version": 3
   },
   "file_extension": ".py",
   "mimetype": "text/x-python",
   "name": "python",
   "nbconvert_exporter": "python",
   "pygments_lexer": "ipython3",
   "version": "3.11.4"
  }
 },
 "nbformat": 4,
 "nbformat_minor": 5
}
